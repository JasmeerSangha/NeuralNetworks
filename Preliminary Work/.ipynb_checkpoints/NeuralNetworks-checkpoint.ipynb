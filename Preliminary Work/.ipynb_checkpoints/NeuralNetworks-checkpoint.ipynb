{
 "cells": [
  {
   "cell_type": "code",
   "execution_count": 44,
   "metadata": {},
   "outputs": [],
   "source": [
    "# Import our dependencies\n",
    "import pandas as pd\n",
    "import matplotlib as plt\n",
    "from sklearn.datasets import make_blobs\n",
    "import sklearn as skl\n",
    "import tensorflow as tf\n",
    "%matplotlib inline"
   ]
  },
  {
   "cell_type": "code",
   "execution_count": 45,
   "metadata": {},
   "outputs": [
    {
     "data": {
      "text/plain": [
       "<matplotlib.axes._subplots.AxesSubplot at 0x18aa7045688>"
      ]
     },
     "execution_count": 45,
     "metadata": {},
     "output_type": "execute_result"
    },
    {
     "data": {
      "image/png": "[encoded data removed]",
      "text/plain": [
       "<Figure size 432x288 with 2 Axes>"
      ]
     },
     "metadata": {
      "needs_background": "light"
     },
     "output_type": "display_data"
    }
   ],
   "source": [
    "# Generate dummy dataset\n",
    "X, y = make_blobs(n_samples=1000, centers=2, n_features=2, random_state=78)\n",
    "\n",
    "# Creating a DataFrame with the dummy data\n",
    "df = pd.DataFrame(X, columns=[\"Feature 1\", \"Feature 2\"])\n",
    "df[\"Target\"] = y\n",
    "\n",
    "# Plotting the dummy data\n",
    "df.plot.scatter(x=\"Feature 1\", y=\"Feature 2\", c=\"Target\", colormap=\"winter\")"
   ]
  },
  {
   "cell_type": "code",
   "execution_count": 46,
   "metadata": {},
   "outputs": [],
   "source": [
    "# Use sklearn to split dataset\n",
    "from sklearn.model_selection import train_test_split\n",
    "X_train, X_test, y_train, y_test = train_test_split(X, y, random_state=78)"
   ]
  },
  {
   "cell_type": "code",
   "execution_count": 47,
   "metadata": {},
   "outputs": [],
   "source": [
    "# Create scaler instance\n",
    "X_scaler = skl.preprocessing.StandardScaler()\n",
    "\n",
    "# Fit the scaler\n",
    "X_scaler.fit(X_train)\n",
    "\n",
    "# Scale the data\n",
    "X_train_scaled = X_scaler.transform(X_train)\n",
    "X_test_scaled = X_scaler.transform(X_test)"
   ]
  },
  {
   "cell_type": "code",
   "execution_count": 48,
   "metadata": {},
   "outputs": [],
   "source": [
    "# Create the Keras Sequential model\n",
    "nn_model = tf.keras.models.Sequential()"
   ]
  },
  {
   "cell_type": "code",
   "execution_count": 49,
   "metadata": {},
   "outputs": [],
   "source": [
    "# Add our first Dense layer, including the input layer\n",
    "nn_model.add(tf.keras.layers.Dense(units=1, activation=\"relu\", input_dim=2))"
   ]
  },
  {
   "cell_type": "code",
   "execution_count": 50,
   "metadata": {},
   "outputs": [],
   "source": [
    "# Add the output layer that uses a probability activation function\n",
    "nn_model.add(tf.keras.layers.Dense(units=1, activation=\"sigmoid\"))"
   ]
  },
  {
   "cell_type": "code",
   "execution_count": 51,
   "metadata": {},
   "outputs": [
    {
     "name": "stdout",
     "output_type": "stream",
     "text": [
      "Model: \"sequential_4\"\n",
      "_________________________________________________________________\n",
      "Layer (type)                 Output Shape              Param #   \n",
      "=================================================================\n",
      "dense_6 (Dense)              (None, 1)                 3         \n",
      "_________________________________________________________________\n",
      "dense_7 (Dense)              (None, 1)                 2         \n",
      "=================================================================\n",
      "Total params: 5\n",
      "Trainable params: 5\n",
      "Non-trainable params: 0\n",
      "_________________________________________________________________\n"
     ]
    }
   ],
   "source": [
    "# Check the structure of the Sequential model\n",
    "nn_model.summary()"
   ]
  },
  {
   "cell_type": "code",
   "execution_count": 52,
   "metadata": {},
   "outputs": [],
   "source": [
    "# Compile the Sequential model together and customize metrics\n",
    "nn_model.compile(loss=\"binary_crossentropy\", optimizer=\"adam\", metrics=[\"accuracy\"])\n"
   ]
  },
  {
   "cell_type": "code",
   "execution_count": 53,
   "metadata": {
    "jupyter": {
     "source_hidden": true
    }
   },
   "outputs": [
    {
     "name": "stdout",
     "output_type": "stream",
     "text": [
      "Train on 750 samples\n",
      "Epoch 1/100\n",
      "750/750 [==============================] - 1s 1ms/sample - loss: 0.6923 - accuracy: 0.5000\n",
      "Epoch 2/100\n",
      "750/750 [==============================] - 0s 66us/sample - loss: 0.6911 - accuracy: 0.5987\n",
      "Epoch 3/100\n",
      "750/750 [==============================] - 0s 65us/sample - loss: 0.6892 - accuracy: 0.6280\n",
      "Epoch 4/100\n",
      "750/750 [==============================] - 0s 62us/sample - loss: 0.6864 - accuracy: 0.6653\n",
      "Epoch 5/100\n",
      "750/750 [==============================] - 0s 66us/sample - loss: 0.6822 - accuracy: 0.6867\n",
      "Epoch 6/100\n",
      "750/750 [==============================] - 0s 62us/sample - loss: 0.6768 - accuracy: 0.7120\n",
      "Epoch 7/100\n",
      "750/750 [==============================] - 0s 65us/sample - loss: 0.6698 - accuracy: 0.7440\n",
      "Epoch 8/100\n",
      "750/750 [==============================] - 0s 68us/sample - loss: 0.6615 - accuracy: 0.7640\n",
      "Epoch 9/100\n",
      "750/750 [==============================] - 0s 69us/sample - loss: 0.6517 - accuracy: 0.7813\n",
      "Epoch 10/100\n",
      "750/750 [==============================] - 0s 63us/sample - loss: 0.6406 - accuracy: 0.7920\n",
      "Epoch 11/100\n",
      "750/750 [==============================] - 0s 62us/sample - loss: 0.6286 - accuracy: 0.8133\n",
      "Epoch 12/100\n",
      "750/750 [==============================] - 0s 64us/sample - loss: 0.6155 - accuracy: 0.8280\n",
      "Epoch 13/100\n",
      "750/750 [==============================] - 0s 60us/sample - loss: 0.6022 - accuracy: 0.8387\n",
      "Epoch 14/100\n",
      "750/750 [==============================] - 0s 65us/sample - loss: 0.5880 - accuracy: 0.8520\n",
      "Epoch 15/100\n",
      "750/750 [==============================] - 0s 56us/sample - loss: 0.5740 - accuracy: 0.8613\n",
      "Epoch 16/100\n",
      "750/750 [==============================] - 0s 113us/sample - loss: 0.5597 - accuracy: 0.8720\n",
      "Epoch 17/100\n",
      "750/750 [==============================] - 0s 125us/sample - loss: 0.5454 - accuracy: 0.8800\n",
      "Epoch 18/100\n",
      "750/750 [==============================] - 0s 109us/sample - loss: 0.5311 - accuracy: 0.8867\n",
      "Epoch 19/100\n",
      "750/750 [==============================] - 0s 96us/sample - loss: 0.5171 - accuracy: 0.8933\n",
      "Epoch 20/100\n",
      "750/750 [==============================] - 0s 97us/sample - loss: 0.5033 - accuracy: 0.9027\n",
      "Epoch 21/100\n",
      "750/750 [==============================] - 0s 113us/sample - loss: 0.4897 - accuracy: 0.9093\n",
      "Epoch 22/100\n",
      "750/750 [==============================] - 0s 108us/sample - loss: 0.4765 - accuracy: 0.9120\n",
      "Epoch 23/100\n",
      "750/750 [==============================] - 0s 132us/sample - loss: 0.4637 - accuracy: 0.9160\n",
      "Epoch 24/100\n",
      "750/750 [==============================] - 0s 118us/sample - loss: 0.4511 - accuracy: 0.9213\n",
      "Epoch 25/100\n",
      "750/750 [==============================] - 0s 97us/sample - loss: 0.4390 - accuracy: 0.9227\n",
      "Epoch 26/100\n",
      "750/750 [==============================] - 0s 110us/sample - loss: 0.4273 - accuracy: 0.9253\n",
      "Epoch 27/100\n",
      "750/750 [==============================] - 0s 90us/sample - loss: 0.4161 - accuracy: 0.9293\n",
      "Epoch 28/100\n",
      "750/750 [==============================] - 0s 133us/sample - loss: 0.4052 - accuracy: 0.9333\n",
      "Epoch 29/100\n",
      "750/750 [==============================] - 0s 110us/sample - loss: 0.3947 - accuracy: 0.9360\n",
      "Epoch 30/100\n",
      "750/750 [==============================] - 0s 106us/sample - loss: 0.3845 - accuracy: 0.9400\n",
      "Epoch 31/100\n",
      "750/750 [==============================] - 0s 109us/sample - loss: 0.3748 - accuracy: 0.9440\n",
      "Epoch 32/100\n",
      "750/750 [==============================] - 0s 106us/sample - loss: 0.3653 - accuracy: 0.9493\n",
      "Epoch 33/100\n",
      "750/750 [==============================] - 0s 105us/sample - loss: 0.3562 - accuracy: 0.9507\n",
      "Epoch 34/100\n",
      "750/750 [==============================] - 0s 108us/sample - loss: 0.3474 - accuracy: 0.9533\n",
      "Epoch 35/100\n",
      "750/750 [==============================] - 0s 98us/sample - loss: 0.3389 - accuracy: 0.9587\n",
      "Epoch 36/100\n",
      "750/750 [==============================] - 0s 108us/sample - loss: 0.3307 - accuracy: 0.9613\n",
      "Epoch 37/100\n",
      "750/750 [==============================] - 0s 124us/sample - loss: 0.3228 - accuracy: 0.9667\n",
      "Epoch 38/100\n",
      "750/750 [==============================] - 0s 110us/sample - loss: 0.3151 - accuracy: 0.9680\n",
      "Epoch 39/100\n",
      "750/750 [==============================] - 0s 108us/sample - loss: 0.3076 - accuracy: 0.9693\n",
      "Epoch 40/100\n",
      "750/750 [==============================] - 0s 129us/sample - loss: 0.3003 - accuracy: 0.9720\n",
      "Epoch 41/100\n",
      "750/750 [==============================] - 0s 94us/sample - loss: 0.2932 - accuracy: 0.9720\n",
      "Epoch 42/100\n",
      "750/750 [==============================] - 0s 96us/sample - loss: 0.2864 - accuracy: 0.9720\n",
      "Epoch 43/100\n",
      "750/750 [==============================] - 0s 116us/sample - loss: 0.2797 - accuracy: 0.9733\n",
      "Epoch 44/100\n",
      "750/750 [==============================] - 0s 98us/sample - loss: 0.2733 - accuracy: 0.9733\n",
      "Epoch 45/100\n",
      "750/750 [==============================] - 0s 97us/sample - loss: 0.2671 - accuracy: 0.9760\n",
      "Epoch 46/100\n",
      "750/750 [==============================] - 0s 94us/sample - loss: 0.2610 - accuracy: 0.9760\n",
      "Epoch 47/100\n",
      "750/750 [==============================] - 0s 97us/sample - loss: 0.2551 - accuracy: 0.9760\n",
      "Epoch 48/100\n",
      "750/750 [==============================] - 0s 80us/sample - loss: 0.2493 - accuracy: 0.9773\n",
      "Epoch 49/100\n",
      "750/750 [==============================] - 0s 72us/sample - loss: 0.2437 - accuracy: 0.9787\n",
      "Epoch 50/100\n",
      "750/750 [==============================] - 0s 77us/sample - loss: 0.2382 - accuracy: 0.9787\n",
      "Epoch 51/100\n",
      "750/750 [==============================] - 0s 85us/sample - loss: 0.2329 - accuracy: 0.9787\n",
      "Epoch 52/100\n",
      "750/750 [==============================] - 0s 94us/sample - loss: 0.2277 - accuracy: 0.9800\n",
      "Epoch 53/100\n",
      "750/750 [==============================] - 0s 85us/sample - loss: 0.2226 - accuracy: 0.9827\n",
      "Epoch 54/100\n",
      "750/750 [==============================] - 0s 73us/sample - loss: 0.2176 - accuracy: 0.9840\n",
      "Epoch 55/100\n",
      "750/750 [==============================] - 0s 80us/sample - loss: 0.2128 - accuracy: 0.9840\n",
      "Epoch 56/100\n",
      "750/750 [==============================] - 0s 77us/sample - loss: 0.2081 - accuracy: 0.9840\n",
      "Epoch 57/100\n",
      "750/750 [==============================] - 0s 96us/sample - loss: 0.2036 - accuracy: 0.9840\n",
      "Epoch 58/100\n",
      "750/750 [==============================] - 0s 93us/sample - loss: 0.1991 - accuracy: 0.9853\n",
      "Epoch 59/100\n",
      "750/750 [==============================] - 0s 118us/sample - loss: 0.1948 - accuracy: 0.9853\n",
      "Epoch 60/100\n",
      "750/750 [==============================] - 0s 72us/sample - loss: 0.1905 - accuracy: 0.9853\n",
      "Epoch 61/100\n",
      "750/750 [==============================] - 0s 94us/sample - loss: 0.1864 - accuracy: 0.9853\n",
      "Epoch 62/100\n",
      "750/750 [==============================] - 0s 102us/sample - loss: 0.1824 - accuracy: 0.9853\n",
      "Epoch 63/100\n",
      "750/750 [==============================] - 0s 85us/sample - loss: 0.1785 - accuracy: 0.9867\n",
      "Epoch 64/100\n",
      "750/750 [==============================] - 0s 90us/sample - loss: 0.1747 - accuracy: 0.9867\n",
      "Epoch 65/100\n",
      "750/750 [==============================] - 0s 90us/sample - loss: 0.1710 - accuracy: 0.9867\n",
      "Epoch 66/100\n",
      "750/750 [==============================] - 0s 85us/sample - loss: 0.1675 - accuracy: 0.9867\n",
      "Epoch 67/100\n",
      "750/750 [==============================] - 0s 90us/sample - loss: 0.1640 - accuracy: 0.9880\n",
      "Epoch 68/100\n",
      "750/750 [==============================] - 0s 93us/sample - loss: 0.1606 - accuracy: 0.9880\n",
      "Epoch 69/100\n",
      "750/750 [==============================] - 0s 108us/sample - loss: 0.1573 - accuracy: 0.9880\n",
      "Epoch 70/100\n",
      "750/750 [==============================] - 0s 101us/sample - loss: 0.1540 - accuracy: 0.9880\n",
      "Epoch 71/100\n",
      "750/750 [==============================] - 0s 84us/sample - loss: 0.1509 - accuracy: 0.9907\n",
      "Epoch 72/100\n",
      "750/750 [==============================] - 0s 98us/sample - loss: 0.1478 - accuracy: 0.9933\n",
      "Epoch 73/100\n",
      "750/750 [==============================] - 0s 100us/sample - loss: 0.1448 - accuracy: 0.9933\n",
      "Epoch 74/100\n",
      "750/750 [==============================] - 0s 93us/sample - loss: 0.1419 - accuracy: 0.9947\n",
      "Epoch 75/100\n",
      "750/750 [==============================] - 0s 96us/sample - loss: 0.1391 - accuracy: 0.9947\n",
      "Epoch 76/100\n",
      "750/750 [==============================] - 0s 97us/sample - loss: 0.1363 - accuracy: 0.9947\n",
      "Epoch 77/100\n",
      "750/750 [==============================] - 0s 85us/sample - loss: 0.1336 - accuracy: 0.9960\n",
      "Epoch 78/100\n",
      "750/750 [==============================] - 0s 96us/sample - loss: 0.1310 - accuracy: 0.9960\n",
      "Epoch 79/100\n",
      "750/750 [==============================] - 0s 92us/sample - loss: 0.1284 - accuracy: 0.9960\n",
      "Epoch 80/100\n",
      "750/750 [==============================] - 0s 73us/sample - loss: 0.1260 - accuracy: 0.9960\n",
      "Epoch 81/100\n",
      "750/750 [==============================] - 0s 111us/sample - loss: 0.1235 - accuracy: 0.9960\n",
      "Epoch 82/100\n",
      "750/750 [==============================] - 0s 122us/sample - loss: 0.1211 - accuracy: 0.9960\n",
      "Epoch 83/100\n",
      "750/750 [==============================] - 0s 98us/sample - loss: 0.1189 - accuracy: 0.9973\n",
      "Epoch 84/100\n",
      "750/750 [==============================] - 0s 95us/sample - loss: 0.1166 - accuracy: 0.9973\n",
      "Epoch 85/100\n",
      "750/750 [==============================] - 0s 93us/sample - loss: 0.1144 - accuracy: 0.9973\n",
      "Epoch 86/100\n",
      "750/750 [==============================] - 0s 93us/sample - loss: 0.1122 - accuracy: 0.9973\n",
      "Epoch 87/100\n",
      "750/750 [==============================] - 0s 101us/sample - loss: 0.1101 - accuracy: 0.9973\n",
      "Epoch 88/100\n",
      "750/750 [==============================] - 0s 94us/sample - loss: 0.1081 - accuracy: 0.9973\n",
      "Epoch 89/100\n",
      "750/750 [==============================] - 0s 96us/sample - loss: 0.1061 - accuracy: 0.9987\n",
      "Epoch 90/100\n",
      "750/750 [==============================] - 0s 92us/sample - loss: 0.1042 - accuracy: 0.9987\n",
      "Epoch 91/100\n",
      "750/750 [==============================] - 0s 94us/sample - loss: 0.1022 - accuracy: 0.9987\n",
      "Epoch 92/100\n",
      "750/750 [==============================] - 0s 89us/sample - loss: 0.1004 - accuracy: 0.9987\n",
      "Epoch 93/100\n",
      "750/750 [==============================] - 0s 111us/sample - loss: 0.0986 - accuracy: 1.0000\n",
      "Epoch 94/100\n",
      "750/750 [==============================] - 0s 128us/sample - loss: 0.0968 - accuracy: 1.0000\n",
      "Epoch 95/100\n",
      "750/750 [==============================] - 0s 93us/sample - loss: 0.0951 - accuracy: 1.0000\n",
      "Epoch 96/100\n",
      "750/750 [==============================] - 0s 84us/sample - loss: 0.0934 - accuracy: 1.0000\n",
      "Epoch 97/100\n",
      "750/750 [==============================] - 0s 99us/sample - loss: 0.0918 - accuracy: 1.0000\n",
      "Epoch 98/100\n",
      "750/750 [==============================] - 0s 86us/sample - loss: 0.0902 - accuracy: 1.0000\n",
      "Epoch 99/100\n",
      "750/750 [==============================] - 0s 73us/sample - loss: 0.0886 - accuracy: 1.0000\n",
      "Epoch 100/100\n",
      "750/750 [==============================] - 0s 105us/sample - loss: 0.0871 - accuracy: 1.0000\n"
     ]
    }
   ],
   "source": [
    "# Fit the model to the training data\n",
    "fit_model = nn_model.fit(X_train_scaled, y_train, epochs=100)"
   ]
  },
  {
   "cell_type": "code",
   "execution_count": 57,
   "metadata": {},
   "outputs": [
    {
     "data": {
      "text/plain": [
       "<matplotlib.axes._subplots.AxesSubplot at 0x18aab4b0748>"
      ]
     },
     "execution_count": 57,
     "metadata": {},
     "output_type": "execute_result"
    },
    {
     "data": {
      "image/png": "[encoded data removed]",
      "text/plain": [
       "<Figure size 432x288 with 1 Axes>"
      ]
     },
     "metadata": {
      "needs_background": "light"
     },
     "output_type": "display_data"
    }
   ],
   "source": [
    "# Create a DataFrame containing training history\n",
    "history_df = pd.DataFrame(fit_model.history, index=range(1,len(fit_model.history[\"loss\"])+1))\n",
    "\n",
    "# Plot the loss\n",
    "history_df.plot(y=\"loss\")"
   ]
  },
  {
   "cell_type": "code",
   "execution_count": 58,
   "metadata": {},
   "outputs": [
    {
     "data": {
      "text/plain": [
       "<matplotlib.axes._subplots.AxesSubplot at 0x18aab3e8708>"
      ]
     },
     "execution_count": 58,
     "metadata": {},
     "output_type": "execute_result"
    },
    {
     "data": {
      "image/png": "[encoded data removed]",
      "text/plain": [
       "<Figure size 432x288 with 1 Axes>"
      ]
     },
     "metadata": {
      "needs_background": "light"
     },
     "output_type": "display_data"
    }
   ],
   "source": [
    "# Plot the accuracy\n",
    "history_df.plot(y=\"accuracy\")"
   ]
  },
  {
   "cell_type": "code",
   "execution_count": 59,
   "metadata": {},
   "outputs": [
    {
     "name": "stdout",
     "output_type": "stream",
     "text": [
      "250/250 - 0s - loss: 0.0808 - accuracy: 1.0000\n",
      "Loss: 0.08079872912168502, Accuracy: 1.0\n"
     ]
    }
   ],
   "source": [
    "# Evaluate the model using the test data\n",
    "model_loss, model_accuracy = nn_model.evaluate(X_test_scaled,y_test,verbose=2)\n",
    "print(f\"Loss: {model_loss}, Accuracy: {model_accuracy}\")"
   ]
  },
  {
   "cell_type": "code",
   "execution_count": 60,
   "metadata": {},
   "outputs": [
    {
     "data": {
      "text/plain": [
       "array([[0],\n",
       "       [1],\n",
       "       [0],\n",
       "       [1],\n",
       "       [0],\n",
       "       [0],\n",
       "       [1],\n",
       "       [1],\n",
       "       [1],\n",
       "       [0]])"
      ]
     },
     "execution_count": 60,
     "metadata": {},
     "output_type": "execute_result"
    }
   ],
   "source": [
    "# Predict the classification of a new set of blob data\n",
    "new_X, new_Y = make_blobs(n_samples=10, centers=2, n_features=2, random_state=78)\n",
    "new_X_scaled = X_scaler.transform(new_X)\n",
    "nn_model.predict_classes(new_X_scaled)"
   ]
  },
  {
   "cell_type": "markdown",
   "metadata": {},
   "source": [
    "## Multiple Neurons"
   ]
  },
  {
   "cell_type": "code",
   "execution_count": 61,
   "metadata": {},
   "outputs": [
    {
     "data": {
      "text/plain": [
       "<matplotlib.axes._subplots.AxesSubplot at 0x18aab5f7908>"
      ]
     },
     "execution_count": 61,
     "metadata": {},
     "output_type": "execute_result"
    },
    {
     "data": {
      "image/png": "[encoded data removed]",
      "text/plain": [
       "<Figure size 432x288 with 2 Axes>"
      ]
     },
     "metadata": {
      "needs_background": "light"
     },
     "output_type": "display_data"
    }
   ],
   "source": [
    "from sklearn.datasets import make_moons\n",
    "\n",
    "# Creating dummy nonlinear data\n",
    "X_moons, y_moons = make_moons(n_samples=1000, noise=0.08, random_state=78)\n",
    "\n",
    "# Transforming y_moons to a vertical vector\n",
    "y_moons = y_moons.reshape(-1, 1)\n",
    "\n",
    "# Creating a DataFrame to plot the nonlinear dummy data\n",
    "df_moons = pd.DataFrame(X_moons, columns=[\"Feature 1\", \"Feature 2\"])\n",
    "df_moons[\"Target\"] = y_moons\n",
    "\n",
    "# Plot the nonlinear dummy data\n",
    "df_moons.plot.scatter(x=\"Feature 1\",y=\"Feature 2\", c=\"Target\",colormap=\"winter\")"
   ]
  },
  {
   "cell_type": "code",
   "execution_count": 62,
   "metadata": {},
   "outputs": [],
   "source": [
    "# Create training and testing sets\n",
    "X_moon_train, X_moon_test, y_moon_train, y_moon_test = train_test_split(\n",
    "    X_moons, y_moons, random_state=78\n",
    ")\n",
    "\n",
    "# Create the scaler instance\n",
    "X_moon_scaler = skl.preprocessing.StandardScaler()\n",
    "\n",
    "# Fit the scaler\n",
    "X_moon_scaler.fit(X_moon_train)\n",
    "\n",
    "# Scale the data\n",
    "X_moon_train_scaled = X_moon_scaler.transform(X_moon_train)\n",
    "X_moon_test_scaled = X_moon_scaler.transform(X_moon_test)"
   ]
  },
  {
   "cell_type": "code",
   "execution_count": 63,
   "metadata": {},
   "outputs": [
    {
     "name": "stdout",
     "output_type": "stream",
     "text": [
      "Train on 750 samples\n",
      "Epoch 1/100\n",
      "750/750 [==============================] - 1s 728us/sample - loss: 1.2296 - accuracy: 0.3907\n",
      "Epoch 2/100\n",
      "750/750 [==============================] - 0s 59us/sample - loss: 1.0752 - accuracy: 0.4240\n",
      "Epoch 3/100\n",
      "750/750 [==============================] - 0s 62us/sample - loss: 0.9749 - accuracy: 0.4440\n",
      "Epoch 4/100\n",
      "750/750 [==============================] - 0s 90us/sample - loss: 0.9097 - accuracy: 0.4653\n",
      "Epoch 5/100\n",
      "750/750 [==============================] - 0s 76us/sample - loss: 0.8622 - accuracy: 0.4840\n",
      "Epoch 6/100\n",
      "750/750 [==============================] - 0s 84us/sample - loss: 0.8250 - accuracy: 0.4947\n",
      "Epoch 7/100\n",
      "750/750 [==============================] - 0s 89us/sample - loss: 0.7956 - accuracy: 0.5147\n",
      "Epoch 8/100\n",
      "750/750 [==============================] - 0s 121us/sample - loss: 0.7697 - accuracy: 0.5307\n",
      "Epoch 9/100\n",
      "750/750 [==============================] - 0s 84us/sample - loss: 0.7478 - accuracy: 0.5413\n",
      "Epoch 10/100\n",
      "750/750 [==============================] - 0s 84us/sample - loss: 0.7280 - accuracy: 0.5533\n",
      "Epoch 11/100\n",
      "750/750 [==============================] - 0s 81us/sample - loss: 0.7094 - accuracy: 0.5653\n",
      "Epoch 12/100\n",
      "750/750 [==============================] - 0s 81us/sample - loss: 0.6928 - accuracy: 0.5773\n",
      "Epoch 13/100\n",
      "750/750 [==============================] - 0s 86us/sample - loss: 0.6772 - accuracy: 0.5827\n",
      "Epoch 14/100\n",
      "750/750 [==============================] - 0s 73us/sample - loss: 0.6629 - accuracy: 0.5933\n",
      "Epoch 15/100\n",
      "750/750 [==============================] - 0s 82us/sample - loss: 0.6494 - accuracy: 0.6027\n",
      "Epoch 16/100\n",
      "750/750 [==============================] - 0s 73us/sample - loss: 0.6368 - accuracy: 0.6067\n",
      "Epoch 17/100\n",
      "750/750 [==============================] - 0s 89us/sample - loss: 0.6250 - accuracy: 0.6133\n",
      "Epoch 18/100\n",
      "750/750 [==============================] - 0s 73us/sample - loss: 0.6136 - accuracy: 0.6160\n",
      "Epoch 19/100\n",
      "750/750 [==============================] - 0s 93us/sample - loss: 0.6028 - accuracy: 0.6173\n",
      "Epoch 20/100\n",
      "750/750 [==============================] - 0s 86us/sample - loss: 0.5928 - accuracy: 0.6213\n",
      "Epoch 21/100\n",
      "750/750 [==============================] - 0s 85us/sample - loss: 0.5834 - accuracy: 0.6253\n",
      "Epoch 22/100\n",
      "750/750 [==============================] - 0s 83us/sample - loss: 0.5743 - accuracy: 0.6320\n",
      "Epoch 23/100\n",
      "750/750 [==============================] - 0s 78us/sample - loss: 0.5657 - accuracy: 0.6387\n",
      "Epoch 24/100\n",
      "750/750 [==============================] - 0s 72us/sample - loss: 0.5576 - accuracy: 0.6467\n",
      "Epoch 25/100\n",
      "750/750 [==============================] - 0s 80us/sample - loss: 0.5497 - accuracy: 0.6533\n",
      "Epoch 26/100\n",
      "750/750 [==============================] - 0s 89us/sample - loss: 0.5422 - accuracy: 0.6587\n",
      "Epoch 27/100\n",
      "750/750 [==============================] - 0s 73us/sample - loss: 0.5351 - accuracy: 0.6600\n",
      "Epoch 28/100\n",
      "750/750 [==============================] - 0s 89us/sample - loss: 0.5282 - accuracy: 0.6707\n",
      "Epoch 29/100\n",
      "750/750 [==============================] - 0s 85us/sample - loss: 0.5215 - accuracy: 0.6773\n",
      "Epoch 30/100\n",
      "750/750 [==============================] - 0s 88us/sample - loss: 0.5150 - accuracy: 0.6813\n",
      "Epoch 31/100\n",
      "750/750 [==============================] - 0s 85us/sample - loss: 0.5087 - accuracy: 0.6840\n",
      "Epoch 32/100\n",
      "750/750 [==============================] - 0s 89us/sample - loss: 0.5028 - accuracy: 0.6867\n",
      "Epoch 33/100\n",
      "750/750 [==============================] - 0s 124us/sample - loss: 0.4969 - accuracy: 0.6893\n",
      "Epoch 34/100\n",
      "750/750 [==============================] - 0s 120us/sample - loss: 0.4912 - accuracy: 0.6933\n",
      "Epoch 35/100\n",
      "750/750 [==============================] - 0s 100us/sample - loss: 0.4857 - accuracy: 0.6973\n",
      "Epoch 36/100\n",
      "750/750 [==============================] - 0s 100us/sample - loss: 0.4802 - accuracy: 0.7053\n",
      "Epoch 37/100\n",
      "750/750 [==============================] - 0s 98us/sample - loss: 0.4749 - accuracy: 0.7120\n",
      "Epoch 38/100\n",
      "750/750 [==============================] - 0s 101us/sample - loss: 0.4697 - accuracy: 0.7173\n",
      "Epoch 39/100\n",
      "750/750 [==============================] - 0s 92us/sample - loss: 0.4646 - accuracy: 0.7213\n",
      "Epoch 40/100\n",
      "750/750 [==============================] - 0s 111us/sample - loss: 0.4597 - accuracy: 0.7227\n",
      "Epoch 41/100\n",
      "750/750 [==============================] - 0s 103us/sample - loss: 0.4548 - accuracy: 0.7253\n",
      "Epoch 42/100\n",
      "750/750 [==============================] - 0s 106us/sample - loss: 0.4500 - accuracy: 0.7293\n",
      "Epoch 43/100\n",
      "750/750 [==============================] - 0s 88us/sample - loss: 0.4451 - accuracy: 0.7400\n",
      "Epoch 44/100\n",
      "750/750 [==============================] - 0s 97us/sample - loss: 0.4405 - accuracy: 0.7453\n",
      "Epoch 45/100\n",
      "750/750 [==============================] - 0s 101us/sample - loss: 0.4359 - accuracy: 0.7453\n",
      "Epoch 46/100\n",
      "750/750 [==============================] - 0s 111us/sample - loss: 0.4312 - accuracy: 0.7560\n",
      "Epoch 47/100\n",
      "750/750 [==============================] - 0s 114us/sample - loss: 0.4267 - accuracy: 0.7613\n",
      "Epoch 48/100\n",
      "750/750 [==============================] - 0s 98us/sample - loss: 0.4223 - accuracy: 0.7640\n",
      "Epoch 49/100\n",
      "750/750 [==============================] - 0s 99us/sample - loss: 0.4179 - accuracy: 0.7680\n",
      "Epoch 50/100\n",
      "750/750 [==============================] - 0s 94us/sample - loss: 0.4136 - accuracy: 0.7760\n",
      "Epoch 51/100\n",
      "750/750 [==============================] - 0s 91us/sample - loss: 0.4093 - accuracy: 0.7773\n",
      "Epoch 52/100\n",
      "750/750 [==============================] - 0s 102us/sample - loss: 0.4051 - accuracy: 0.7813\n",
      "Epoch 53/100\n",
      "750/750 [==============================] - 0s 90us/sample - loss: 0.4008 - accuracy: 0.7827\n",
      "Epoch 54/100\n",
      "750/750 [==============================] - 0s 95us/sample - loss: 0.3967 - accuracy: 0.7867\n",
      "Epoch 55/100\n",
      "750/750 [==============================] - 0s 96us/sample - loss: 0.3926 - accuracy: 0.7867\n",
      "Epoch 56/100\n",
      "750/750 [==============================] - 0s 89us/sample - loss: 0.3885 - accuracy: 0.7907\n",
      "Epoch 57/100\n",
      "750/750 [==============================] - 0s 94us/sample - loss: 0.3845 - accuracy: 0.7920\n",
      "Epoch 58/100\n",
      "750/750 [==============================] - 0s 84us/sample - loss: 0.3806 - accuracy: 0.7920\n",
      "Epoch 59/100\n",
      "750/750 [==============================] - 0s 86us/sample - loss: 0.3767 - accuracy: 0.7947\n",
      "Epoch 60/100\n",
      "750/750 [==============================] - 0s 89us/sample - loss: 0.3730 - accuracy: 0.7987\n",
      "Epoch 61/100\n",
      "750/750 [==============================] - 0s 84us/sample - loss: 0.3694 - accuracy: 0.8013\n",
      "Epoch 62/100\n",
      "750/750 [==============================] - 0s 80us/sample - loss: 0.3657 - accuracy: 0.8053\n",
      "Epoch 63/100\n",
      "750/750 [==============================] - 0s 77us/sample - loss: 0.3623 - accuracy: 0.8093\n",
      "Epoch 64/100\n",
      "750/750 [==============================] - 0s 72us/sample - loss: 0.3589 - accuracy: 0.8107\n",
      "Epoch 65/100\n",
      "750/750 [==============================] - 0s 89us/sample - loss: 0.3557 - accuracy: 0.8133\n",
      "Epoch 66/100\n",
      "750/750 [==============================] - 0s 80us/sample - loss: 0.3524 - accuracy: 0.8160\n",
      "Epoch 67/100\n",
      "750/750 [==============================] - 0s 84us/sample - loss: 0.3493 - accuracy: 0.8187\n",
      "Epoch 68/100\n",
      "750/750 [==============================] - 0s 90us/sample - loss: 0.3463 - accuracy: 0.8227\n",
      "Epoch 69/100\n",
      "750/750 [==============================] - 0s 126us/sample - loss: 0.3433 - accuracy: 0.8307\n",
      "Epoch 70/100\n",
      "750/750 [==============================] - 0s 170us/sample - loss: 0.3406 - accuracy: 0.8320\n",
      "Epoch 71/100\n",
      "750/750 [==============================] - 0s 129us/sample - loss: 0.3378 - accuracy: 0.8333\n",
      "Epoch 72/100\n",
      "750/750 [==============================] - 0s 110us/sample - loss: 0.3352 - accuracy: 0.8333\n",
      "Epoch 73/100\n",
      "750/750 [==============================] - 0s 129us/sample - loss: 0.3326 - accuracy: 0.8387\n",
      "Epoch 74/100\n",
      "750/750 [==============================] - 0s 105us/sample - loss: 0.3301 - accuracy: 0.8413\n",
      "Epoch 75/100\n",
      "750/750 [==============================] - 0s 101us/sample - loss: 0.3277 - accuracy: 0.8467\n",
      "Epoch 76/100\n",
      "750/750 [==============================] - 0s 97us/sample - loss: 0.3253 - accuracy: 0.8493\n",
      "Epoch 77/100\n",
      "750/750 [==============================] - 0s 92us/sample - loss: 0.3231 - accuracy: 0.8520\n",
      "Epoch 78/100\n",
      "750/750 [==============================] - 0s 73us/sample - loss: 0.3208 - accuracy: 0.8533\n",
      "Epoch 79/100\n",
      "750/750 [==============================] - 0s 102us/sample - loss: 0.3187 - accuracy: 0.8547\n",
      "Epoch 80/100\n",
      "750/750 [==============================] - 0s 90us/sample - loss: 0.3165 - accuracy: 0.8573\n",
      "Epoch 81/100\n",
      "750/750 [==============================] - 0s 104us/sample - loss: 0.3145 - accuracy: 0.8600\n",
      "Epoch 82/100\n",
      "750/750 [==============================] - 0s 104us/sample - loss: 0.3125 - accuracy: 0.8640\n",
      "Epoch 83/100\n",
      "750/750 [==============================] - 0s 104us/sample - loss: 0.3107 - accuracy: 0.8640\n",
      "Epoch 84/100\n",
      "750/750 [==============================] - 0s 96us/sample - loss: 0.3088 - accuracy: 0.8640\n",
      "Epoch 85/100\n",
      "750/750 [==============================] - 0s 112us/sample - loss: 0.3070 - accuracy: 0.8653\n",
      "Epoch 86/100\n",
      "750/750 [==============================] - 0s 123us/sample - loss: 0.3053 - accuracy: 0.8667\n",
      "Epoch 87/100\n",
      "750/750 [==============================] - 0s 101us/sample - loss: 0.3036 - accuracy: 0.8680\n",
      "Epoch 88/100\n",
      "750/750 [==============================] - 0s 113us/sample - loss: 0.3019 - accuracy: 0.8680\n",
      "Epoch 89/100\n",
      "750/750 [==============================] - 0s 113us/sample - loss: 0.3004 - accuracy: 0.8693\n",
      "Epoch 90/100\n",
      "750/750 [==============================] - 0s 106us/sample - loss: 0.2989 - accuracy: 0.8693\n",
      "Epoch 91/100\n",
      "750/750 [==============================] - 0s 94us/sample - loss: 0.2973 - accuracy: 0.8693\n",
      "Epoch 92/100\n",
      "750/750 [==============================] - 0s 72us/sample - loss: 0.2959 - accuracy: 0.8693\n",
      "Epoch 93/100\n",
      "750/750 [==============================] - 0s 90us/sample - loss: 0.2945 - accuracy: 0.8693\n",
      "Epoch 94/100\n",
      "750/750 [==============================] - 0s 100us/sample - loss: 0.2931 - accuracy: 0.8693\n",
      "Epoch 95/100\n",
      "750/750 [==============================] - 0s 96us/sample - loss: 0.2918 - accuracy: 0.8707\n",
      "Epoch 96/100\n",
      "750/750 [==============================] - 0s 103us/sample - loss: 0.2906 - accuracy: 0.8733\n",
      "Epoch 97/100\n",
      "750/750 [==============================] - 0s 78us/sample - loss: 0.2894 - accuracy: 0.8733\n",
      "Epoch 98/100\n",
      "750/750 [==============================] - 0s 74us/sample - loss: 0.2882 - accuracy: 0.8733\n",
      "Epoch 99/100\n",
      "750/750 [==============================] - 0s 100us/sample - loss: 0.2870 - accuracy: 0.8733\n",
      "Epoch 100/100\n",
      "750/750 [==============================] - 0s 85us/sample - loss: 0.2860 - accuracy: 0.8733\n"
     ]
    }
   ],
   "source": [
    "# Training the model with the nonlinear data\n",
    "model_moon = nn_model.fit(X_moon_train_scaled, y_moon_train, epochs=100, shuffle=True)"
   ]
  },
  {
   "cell_type": "code",
   "execution_count": 64,
   "metadata": {},
   "outputs": [
    {
     "data": {
      "text/plain": [
       "<matplotlib.axes._subplots.AxesSubplot at 0x18aab80db88>"
      ]
     },
     "execution_count": 64,
     "metadata": {},
     "output_type": "execute_result"
    },
    {
     "data": {
      "image/png": "[encoded data removed]",
      "text/plain": [
       "<Figure size 432x288 with 1 Axes>"
      ]
     },
     "metadata": {
      "needs_background": "light"
     },
     "output_type": "display_data"
    }
   ],
   "source": [
    "# Create a DataFrame containing training history\n",
    "history_df = pd.DataFrame(model_moon.history, index=range(1,len(model_moon.history[\"loss\"])+1))\n",
    "\n",
    "# Plot the loss\n",
    "history_df.plot(y=\"loss\")"
   ]
  },
  {
   "cell_type": "code",
   "execution_count": 65,
   "metadata": {},
   "outputs": [
    {
     "data": {
      "text/plain": [
       "<matplotlib.axes._subplots.AxesSubplot at 0x18aab86e588>"
      ]
     },
     "execution_count": 65,
     "metadata": {},
     "output_type": "execute_result"
    },
    {
     "data": {
      "image/png": "[encoded data removed]",
      "text/plain": [
       "<Figure size 432x288 with 1 Axes>"
      ]
     },
     "metadata": {
      "needs_background": "light"
     },
     "output_type": "display_data"
    }
   ],
   "source": [
    "# Plot the loss\n",
    "history_df.plot(y=\"accuracy\")"
   ]
  },
  {
   "cell_type": "code",
   "execution_count": 66,
   "metadata": {},
   "outputs": [],
   "source": [
    "# Generate our new Sequential model\n",
    "new_model = tf.keras.models.Sequential()"
   ]
  },
  {
   "cell_type": "code",
   "execution_count": 67,
   "metadata": {},
   "outputs": [],
   "source": [
    "# Add the input and hidden layer\n",
    "number_inputs = 2\n",
    "number_hidden_nodes = 6\n",
    "\n",
    "new_model.add(tf.keras.layers.Dense(units=number_hidden_nodes, activation=\"relu\", input_dim=number_inputs))\n",
    "\n",
    "# Add the output layer that uses a probability activation function\n",
    "new_model.add(tf.keras.layers.Dense(units=1, activation=\"sigmoid\"))"
   ]
  },
  {
   "cell_type": "code",
   "execution_count": 68,
   "metadata": {},
   "outputs": [
    {
     "name": "stdout",
     "output_type": "stream",
     "text": [
      "Train on 750 samples\n",
      "Epoch 1/100\n",
      "750/750 [==============================] - 1s 2ms/sample - loss: 1.3778 - accuracy: 0.1200\n",
      "Epoch 2/100\n",
      "750/750 [==============================] - 0s 62us/sample - loss: 1.2877 - accuracy: 0.1213\n",
      "Epoch 3/100\n",
      "750/750 [==============================] - 0s 61us/sample - loss: 1.2081 - accuracy: 0.1240\n",
      "Epoch 4/100\n",
      "750/750 [==============================] - ETA: 0s - loss: 1.1745 - accuracy: 0.09 - 0s 60us/sample - loss: 1.1402 - accuracy: 0.1280\n",
      "Epoch 5/100\n",
      "750/750 [==============================] - 0s 64us/sample - loss: 1.0810 - accuracy: 0.1347\n",
      "Epoch 6/100\n",
      "750/750 [==============================] - 0s 65us/sample - loss: 1.0301 - accuracy: 0.1320\n",
      "Epoch 7/100\n",
      "750/750 [==============================] - 0s 69us/sample - loss: 0.9855 - accuracy: 0.1373\n",
      "Epoch 8/100\n",
      "750/750 [==============================] - 0s 70us/sample - loss: 0.9479 - accuracy: 0.1520\n",
      "Epoch 9/100\n",
      "750/750 [==============================] - 0s 70us/sample - loss: 0.9140 - accuracy: 0.1547\n",
      "Epoch 10/100\n",
      "750/750 [==============================] - 0s 63us/sample - loss: 0.8850 - accuracy: 0.1613\n",
      "Epoch 11/100\n",
      "750/750 [==============================] - 0s 77us/sample - loss: 0.8596 - accuracy: 0.1640\n",
      "Epoch 12/100\n",
      "750/750 [==============================] - 0s 69us/sample - loss: 0.8372 - accuracy: 0.1787\n",
      "Epoch 13/100\n",
      "750/750 [==============================] - 0s 80us/sample - loss: 0.8174 - accuracy: 0.1827\n",
      "Epoch 14/100\n",
      "750/750 [==============================] - 0s 70us/sample - loss: 0.7999 - accuracy: 0.1920\n",
      "Epoch 15/100\n",
      "750/750 [==============================] - 0s 87us/sample - loss: 0.7843 - accuracy: 0.2107\n",
      "Epoch 16/100\n",
      "750/750 [==============================] - 0s 91us/sample - loss: 0.7706 - accuracy: 0.2293\n",
      "Epoch 17/100\n",
      "750/750 [==============================] - 0s 92us/sample - loss: 0.7588 - accuracy: 0.2440\n",
      "Epoch 18/100\n",
      "750/750 [==============================] - 0s 76us/sample - loss: 0.7477 - accuracy: 0.2640\n",
      "Epoch 19/100\n",
      "750/750 [==============================] - 0s 80us/sample - loss: 0.7380 - accuracy: 0.2960\n",
      "Epoch 20/100\n",
      "750/750 [==============================] - 0s 98us/sample - loss: 0.7289 - accuracy: 0.3333\n",
      "Epoch 21/100\n",
      "750/750 [==============================] - 0s 88us/sample - loss: 0.7210 - accuracy: 0.3587\n",
      "Epoch 22/100\n",
      "750/750 [==============================] - 0s 80us/sample - loss: 0.7138 - accuracy: 0.3920\n",
      "Epoch 23/100\n",
      "750/750 [==============================] - 0s 69us/sample - loss: 0.7072 - accuracy: 0.4253\n",
      "Epoch 24/100\n",
      "750/750 [==============================] - 0s 75us/sample - loss: 0.7011 - accuracy: 0.4653\n",
      "Epoch 25/100\n",
      "750/750 [==============================] - 0s 73us/sample - loss: 0.6956 - accuracy: 0.5053\n",
      "Epoch 26/100\n",
      "750/750 [==============================] - 0s 84us/sample - loss: 0.6905 - accuracy: 0.5200\n",
      "Epoch 27/100\n",
      "750/750 [==============================] - 0s 82us/sample - loss: 0.6860 - accuracy: 0.5267\n",
      "Epoch 28/100\n",
      "750/750 [==============================] - 0s 68us/sample - loss: 0.6818 - accuracy: 0.5293\n",
      "Epoch 29/100\n",
      "750/750 [==============================] - 0s 78us/sample - loss: 0.6779 - accuracy: 0.5307\n",
      "Epoch 30/100\n",
      "750/750 [==============================] - 0s 73us/sample - loss: 0.6741 - accuracy: 0.5307\n",
      "Epoch 31/100\n",
      "750/750 [==============================] - 0s 109us/sample - loss: 0.6703 - accuracy: 0.5307\n",
      "Epoch 32/100\n",
      "750/750 [==============================] - 0s 124us/sample - loss: 0.6665 - accuracy: 0.5307\n",
      "Epoch 33/100\n",
      "750/750 [==============================] - 0s 89us/sample - loss: 0.6625 - accuracy: 0.5307\n",
      "Epoch 34/100\n",
      "750/750 [==============================] - 0s 105us/sample - loss: 0.6582 - accuracy: 0.5307\n",
      "Epoch 35/100\n",
      "750/750 [==============================] - 0s 162us/sample - loss: 0.6533 - accuracy: 0.5307\n",
      "Epoch 36/100\n",
      "750/750 [==============================] - 0s 112us/sample - loss: 0.6483 - accuracy: 0.5307\n",
      "Epoch 37/100\n",
      "750/750 [==============================] - 0s 93us/sample - loss: 0.6428 - accuracy: 0.5307\n",
      "Epoch 38/100\n",
      "750/750 [==============================] - 0s 89us/sample - loss: 0.6369 - accuracy: 0.5307\n",
      "Epoch 39/100\n",
      "750/750 [==============================] - 0s 86us/sample - loss: 0.6305 - accuracy: 0.5307\n",
      "Epoch 40/100\n",
      "750/750 [==============================] - 0s 68us/sample - loss: 0.6232 - accuracy: 0.5307\n",
      "Epoch 41/100\n",
      "750/750 [==============================] - 0s 66us/sample - loss: 0.6155 - accuracy: 0.5307\n",
      "Epoch 42/100\n",
      "750/750 [==============================] - 0s 73us/sample - loss: 0.6075 - accuracy: 0.5307\n",
      "Epoch 43/100\n",
      "750/750 [==============================] - 0s 74us/sample - loss: 0.5991 - accuracy: 0.5307\n",
      "Epoch 44/100\n",
      "750/750 [==============================] - 0s 80us/sample - loss: 0.5905 - accuracy: 0.5307\n",
      "Epoch 45/100\n",
      "750/750 [==============================] - 0s 85us/sample - loss: 0.5820 - accuracy: 0.5893\n",
      "Epoch 46/100\n",
      "750/750 [==============================] - 0s 80us/sample - loss: 0.5733 - accuracy: 0.7427\n",
      "Epoch 47/100\n",
      "750/750 [==============================] - 0s 86us/sample - loss: 0.5647 - accuracy: 0.7533\n",
      "Epoch 48/100\n",
      "750/750 [==============================] - 0s 90us/sample - loss: 0.5562 - accuracy: 0.7587\n",
      "Epoch 49/100\n",
      "750/750 [==============================] - 0s 91us/sample - loss: 0.5479 - accuracy: 0.7640\n",
      "Epoch 50/100\n",
      "750/750 [==============================] - 0s 87us/sample - loss: 0.5398 - accuracy: 0.7653\n",
      "Epoch 51/100\n",
      "750/750 [==============================] - 0s 72us/sample - loss: 0.5318 - accuracy: 0.7760\n",
      "Epoch 52/100\n",
      "750/750 [==============================] - 0s 78us/sample - loss: 0.5241 - accuracy: 0.7800\n",
      "Epoch 53/100\n",
      "750/750 [==============================] - 0s 94us/sample - loss: 0.5167 - accuracy: 0.7867\n",
      "Epoch 54/100\n",
      "750/750 [==============================] - 0s 98us/sample - loss: 0.5096 - accuracy: 0.7893\n",
      "Epoch 55/100\n",
      "750/750 [==============================] - 0s 80us/sample - loss: 0.5026 - accuracy: 0.7933\n",
      "Epoch 56/100\n",
      "750/750 [==============================] - 0s 92us/sample - loss: 0.4960 - accuracy: 0.7960\n",
      "Epoch 57/100\n",
      "750/750 [==============================] - 0s 85us/sample - loss: 0.4897 - accuracy: 0.8013\n",
      "Epoch 58/100\n",
      "750/750 [==============================] - 0s 85us/sample - loss: 0.4834 - accuracy: 0.8027\n",
      "Epoch 59/100\n",
      "750/750 [==============================] - 0s 100us/sample - loss: 0.4771 - accuracy: 0.8067\n",
      "Epoch 60/100\n",
      "750/750 [==============================] - 0s 92us/sample - loss: 0.4711 - accuracy: 0.8067\n",
      "Epoch 61/100\n",
      "750/750 [==============================] - 0s 84us/sample - loss: 0.4652 - accuracy: 0.8120\n",
      "Epoch 62/100\n",
      "750/750 [==============================] - 0s 96us/sample - loss: 0.4596 - accuracy: 0.8120\n",
      "Epoch 63/100\n",
      "750/750 [==============================] - 0s 72us/sample - loss: 0.4540 - accuracy: 0.8213\n",
      "Epoch 64/100\n",
      "750/750 [==============================] - 0s 89us/sample - loss: 0.4486 - accuracy: 0.8253\n",
      "Epoch 65/100\n",
      "750/750 [==============================] - 0s 85us/sample - loss: 0.4433 - accuracy: 0.8267\n",
      "Epoch 66/100\n",
      "750/750 [==============================] - 0s 80us/sample - loss: 0.4382 - accuracy: 0.8293\n",
      "Epoch 67/100\n",
      "750/750 [==============================] - 0s 82us/sample - loss: 0.4333 - accuracy: 0.8320\n",
      "Epoch 68/100\n",
      "750/750 [==============================] - 0s 84us/sample - loss: 0.4285 - accuracy: 0.8360\n",
      "Epoch 69/100\n",
      "750/750 [==============================] - 0s 85us/sample - loss: 0.4239 - accuracy: 0.8400\n",
      "Epoch 70/100\n",
      "750/750 [==============================] - 0s 92us/sample - loss: 0.4194 - accuracy: 0.8427\n",
      "Epoch 71/100\n",
      "750/750 [==============================] - 0s 86us/sample - loss: 0.4151 - accuracy: 0.8467\n",
      "Epoch 72/100\n",
      "750/750 [==============================] - 0s 89us/sample - loss: 0.4107 - accuracy: 0.8520\n",
      "Epoch 73/100\n",
      "750/750 [==============================] - 0s 76us/sample - loss: 0.4065 - accuracy: 0.8533\n",
      "Epoch 74/100\n",
      "750/750 [==============================] - 0s 98us/sample - loss: 0.4023 - accuracy: 0.8573\n",
      "Epoch 75/100\n",
      "750/750 [==============================] - 0s 88us/sample - loss: 0.3981 - accuracy: 0.8587\n",
      "Epoch 76/100\n",
      "750/750 [==============================] - 0s 89us/sample - loss: 0.3940 - accuracy: 0.8587\n",
      "Epoch 77/100\n",
      "750/750 [==============================] - 0s 98us/sample - loss: 0.3900 - accuracy: 0.8600\n",
      "Epoch 78/100\n",
      "750/750 [==============================] - 0s 82us/sample - loss: 0.3860 - accuracy: 0.8640\n",
      "Epoch 79/100\n",
      "750/750 [==============================] - 0s 87us/sample - loss: 0.3820 - accuracy: 0.8653\n",
      "Epoch 80/100\n",
      "750/750 [==============================] - 0s 86us/sample - loss: 0.3782 - accuracy: 0.8680\n",
      "Epoch 81/100\n",
      "750/750 [==============================] - 0s 78us/sample - loss: 0.3744 - accuracy: 0.8693\n",
      "Epoch 82/100\n",
      "750/750 [==============================] - 0s 82us/sample - loss: 0.3707 - accuracy: 0.8693\n",
      "Epoch 83/100\n",
      "750/750 [==============================] - 0s 87us/sample - loss: 0.3671 - accuracy: 0.8707\n",
      "Epoch 84/100\n",
      "750/750 [==============================] - 0s 86us/sample - loss: 0.3635 - accuracy: 0.8747s - loss: 0.3631 - accuracy: 0.87\n",
      "Epoch 85/100\n",
      "750/750 [==============================] - 0s 82us/sample - loss: 0.3601 - accuracy: 0.8747\n",
      "Epoch 86/100\n",
      "750/750 [==============================] - 0s 82us/sample - loss: 0.3565 - accuracy: 0.8747\n",
      "Epoch 87/100\n",
      "750/750 [==============================] - 0s 90us/sample - loss: 0.3531 - accuracy: 0.8760\n",
      "Epoch 88/100\n",
      "750/750 [==============================] - 0s 82us/sample - loss: 0.3497 - accuracy: 0.8760\n",
      "Epoch 89/100\n",
      "750/750 [==============================] - 0s 101us/sample - loss: 0.3465 - accuracy: 0.8773\n",
      "Epoch 90/100\n",
      "750/750 [==============================] - 0s 85us/sample - loss: 0.3433 - accuracy: 0.8773\n",
      "Epoch 91/100\n",
      "750/750 [==============================] - 0s 80us/sample - loss: 0.3402 - accuracy: 0.8787\n",
      "Epoch 92/100\n",
      "750/750 [==============================] - 0s 69us/sample - loss: 0.3372 - accuracy: 0.8787\n",
      "Epoch 93/100\n",
      "750/750 [==============================] - 0s 78us/sample - loss: 0.3344 - accuracy: 0.8787\n",
      "Epoch 94/100\n",
      "750/750 [==============================] - 0s 84us/sample - loss: 0.3315 - accuracy: 0.8827\n",
      "Epoch 95/100\n",
      "750/750 [==============================] - 0s 66us/sample - loss: 0.3287 - accuracy: 0.8840\n",
      "Epoch 96/100\n",
      "750/750 [==============================] - 0s 74us/sample - loss: 0.3261 - accuracy: 0.8867\n",
      "Epoch 97/100\n",
      "750/750 [==============================] - 0s 70us/sample - loss: 0.3236 - accuracy: 0.8880\n",
      "Epoch 98/100\n",
      "750/750 [==============================] - 0s 65us/sample - loss: 0.3211 - accuracy: 0.8907\n",
      "Epoch 99/100\n",
      "750/750 [==============================] - 0s 69us/sample - loss: 0.3187 - accuracy: 0.8920\n",
      "Epoch 100/100\n",
      "750/750 [==============================] - 0s 69us/sample - loss: 0.3165 - accuracy: 0.8920\n"
     ]
    }
   ],
   "source": [
    "# Compile the Sequential model together and customize metrics\n",
    "new_model.compile(loss=\"binary_crossentropy\", optimizer=\"adam\", metrics=[\"accuracy\"])\n",
    "\n",
    "# Fit the model to the training data\n",
    "new_fit_model = new_model.fit(X_moon_train_scaled, y_moon_train, epochs=100, shuffle=True)"
   ]
  },
  {
   "cell_type": "code",
   "execution_count": null,
   "metadata": {},
   "outputs": [],
   "source": []
  }
 ],
 "metadata": {
  "kernelspec": {
   "display_name": "Python 3",
   "language": "python",
   "name": "python3"
  },
  "language_info": {
   "codemirror_mode": {
    "name": "ipython",
    "version": 3
   },
   "file_extension": ".py",
   "mimetype": "text/x-python",
   "name": "python",
   "nbconvert_exporter": "python",
   "pygments_lexer": "ipython3",
   "version": "3.7.4"
  }
 },
 "nbformat": 4,
 "nbformat_minor": 4
}
